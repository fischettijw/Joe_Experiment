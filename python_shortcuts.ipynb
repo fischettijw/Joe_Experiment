{
 "cells": [
  {
   "cell_type": "markdown",
   "metadata": {},
   "source": [
    "# [10 Python Shortcuts You Need To Know](https://www.youtube.com/watch?v=CssrFJGH_dU)"
   ]
  },
  {
   "cell_type": "code",
   "execution_count": 1,
   "metadata": {},
   "outputs": [
    {
     "name": "stdout",
     "output_type": "stream",
     "text": [
      "My name is Joe.\n"
     ]
    }
   ],
   "source": [
    "# f String\n",
    "name = \"Joe\"\n",
    "print(f\"My name is {name}.\")"
   ]
  }
 ],
 "metadata": {
  "kernelspec": {
   "display_name": "Python 3.9.4 64-bit",
   "language": "python",
   "name": "python3"
  },
  "language_info": {
   "codemirror_mode": {
    "name": "ipython",
    "version": 3
   },
   "file_extension": ".py",
   "mimetype": "text/x-python",
   "name": "python",
   "nbconvert_exporter": "python",
   "pygments_lexer": "ipython3",
   "version": "3.9.4"
  },
  "orig_nbformat": 4,
  "vscode": {
   "interpreter": {
    "hash": "b1200c1dd7a91a7c1b6d56890176a83d3d524151a45e4b2ed5e5fcaf425d2182"
   }
  }
 },
 "nbformat": 4,
 "nbformat_minor": 2
}
